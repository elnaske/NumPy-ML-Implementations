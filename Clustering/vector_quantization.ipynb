{
 "cells": [
  {
   "cell_type": "code",
   "execution_count": 3,
   "id": "b7bf5cf2",
   "metadata": {},
   "outputs": [],
   "source": [
    "import numpy as np\n",
    "from vector_quantization import ResidualVQ"
   ]
  },
  {
   "cell_type": "code",
   "execution_count": 4,
   "id": "cee2128d",
   "metadata": {},
   "outputs": [
    {
     "name": "stdout",
     "output_type": "stream",
     "text": [
      "-1.3500311979441903e-16\n"
     ]
    }
   ],
   "source": [
    "np.random.seed(42)\n",
    "X = np.random.rand(100,10) * 100\n",
    "\n",
    "rvq = ResidualVQ(10, 8)\n",
    "\n",
    "rvq.fit(X)\n",
    "encoded = rvq.transform(X)\n",
    "X_hat = rvq.decode(encoded)\n",
    "\n",
    "print(np.mean(X - X_hat))"
   ]
  },
  {
   "cell_type": "code",
   "execution_count": null,
   "id": "27898cbe",
   "metadata": {},
   "outputs": [],
   "source": []
  }
 ],
 "metadata": {
  "kernelspec": {
   "display_name": "Python 3",
   "language": "python",
   "name": "python3"
  },
  "language_info": {
   "codemirror_mode": {
    "name": "ipython",
    "version": 3
   },
   "file_extension": ".py",
   "mimetype": "text/x-python",
   "name": "python",
   "nbconvert_exporter": "python",
   "pygments_lexer": "ipython3",
   "version": "3.12.8"
  }
 },
 "nbformat": 4,
 "nbformat_minor": 5
}
